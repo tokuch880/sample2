{
 "cells": [
  {
   "cell_type": "code",
   "execution_count": 2,
   "id": "c356af14",
   "metadata": {},
   "outputs": [
    {
     "name": "stdout",
     "output_type": "stream",
     "text": [
      "enter your name : Joseph\n",
      "Hello, Joseph! The password is : W@12\n"
     ]
    }
   ],
   "source": [
    "my_name = \"Joseph\"\n",
    "\n",
    "your_name = input(\"enter your name : \")\n",
    "\n",
    "if my_name == your_name :\n",
    "\n",
    "    print(\"Hello, Joseph! The password is : W@12\")\n",
    "\n",
    "else :\n",
    "\n",
    "    print(\"Hello, Jacob! See you later.\")"
   ]
  },
  {
   "cell_type": "code",
   "execution_count": null,
   "id": "554ba995",
   "metadata": {},
   "outputs": [],
   "source": []
  }
 ],
 "metadata": {
  "kernelspec": {
   "display_name": "Python 3 (ipykernel)",
   "language": "python",
   "name": "python3"
  },
  "language_info": {
   "codemirror_mode": {
    "name": "ipython",
    "version": 3
   },
   "file_extension": ".py",
   "mimetype": "text/x-python",
   "name": "python",
   "nbconvert_exporter": "python",
   "pygments_lexer": "ipython3",
   "version": "3.10.8"
  }
 },
 "nbformat": 4,
 "nbformat_minor": 5
}
